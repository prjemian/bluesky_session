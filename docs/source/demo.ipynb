{
 "cells": [
  {
   "cell_type": "markdown",
   "metadata": {},
   "source": [
    "# Demo: Notebook Startup"
   ]
  },
  {
   "cell_type": "code",
   "execution_count": 1,
   "metadata": {},
   "outputs": [
    {
     "name": "stderr",
     "output_type": "stream",
     "text": [
      "I Mon-18:07:18 - ############################################################ startup\n",
      "I Mon-18:07:18 - logging started\n",
      "I Mon-18:07:18 - logging level = 10\n",
      "I Mon-18:07:18 - /home/prjemian/Documents/projects/prjemian/instrument_template/src/instrument/utils/_logging_setup.py\n",
      "I Mon-18:07:18 - /home/prjemian/Documents/projects/prjemian/instrument_template/src/instrument/utils/aps_dm_setup.py\n",
      "W Mon-18:07:18 - APS DM setup file does not exist: '/home/dm/etc/dm.setup.sh'\n",
      "I Mon-18:07:18 - /home/prjemian/Documents/projects/prjemian/instrument_template/src/instrument/utils/debug_setup.py\n",
      "I Mon-18:07:18 - xmode exception level: 'Minimal'\n",
      "I Mon-18:07:18 - /home/prjemian/Documents/projects/prjemian/instrument_template/src/instrument/utils/functions.py\n",
      "I Mon-18:07:18 - /home/prjemian/Documents/projects/prjemian/instrument_template/src/instrument/utils/mpl_setup.py\n",
      "I Mon-18:07:18 - /home/prjemian/Documents/projects/prjemian/instrument_template/src/instrument/startup.py\n",
      "I Mon-18:07:18 - /home/prjemian/Documents/projects/prjemian/instrument_template/src/instrument/utils/best_effort.py\n",
      "I Mon-18:07:18 - /home/prjemian/Documents/projects/prjemian/instrument_template/src/instrument/utils/catalog.py\n",
      "I Mon-18:07:18 - Databroker catalog: temp\n",
      "I Mon-18:07:18 - /home/prjemian/Documents/projects/prjemian/instrument_template/src/instrument/utils/ophyd_setup.py\n",
      "I Mon-18:07:18 - using ophyd control layer: 'pyepics'\n",
      "I Mon-18:07:18 - /home/prjemian/Documents/projects/prjemian/instrument_template/src/instrument/utils/run_engine.py\n",
      "I Mon-18:07:18 - /home/prjemian/Documents/projects/prjemian/instrument_template/src/instrument/utils/epics_setup.py\n",
      "I Mon-18:07:18 - /home/prjemian/Documents/projects/prjemian/instrument_template/src/instrument/utils/metadata.py\n",
      "I Mon-18:07:18 - RunEngine metadata saved in directory: /home/prjemian/.config/Bluesky_RunEngine_md\n",
      "I Mon-18:07:18 - /home/prjemian/Documents/projects/prjemian/instrument_template/src/instrument/utils/tests/common.py\n"
     ]
    },
    {
     "name": "stdout",
     "output_type": "stream",
     "text": [
      "Activating auto-logging. Current session state plus future input saved.\n",
      "Filename       : /home/prjemian/Documents/projects/prjemian/instrument_template/docs/source/.logs/ipython_console.log\n",
      "Mode           : rotate\n",
      "Output logging : True\n",
      "Raw input log  : False\n",
      "Timestamping   : True\n",
      "State          : active\n",
      "Exception reporting mode: Minimal\n"
     ]
    }
   ],
   "source": [
    "from instrument.startup import *  # noqa"
   ]
  },
  {
   "cell_type": "code",
   "execution_count": 2,
   "metadata": {},
   "outputs": [],
   "source": [
    "# import some plans with simulators from the test suite\n",
    "from instrument.utils.tests.common import sim_count_plan\n",
    "from instrument.utils.tests.common import sim_print_plan\n",
    "from instrument.utils.tests.common import sim_rel_scan_plan"
   ]
  },
  {
   "cell_type": "code",
   "execution_count": 3,
   "metadata": {},
   "outputs": [
    {
     "name": "stderr",
     "output_type": "stream",
     "text": [
      "I Mon-18:07:18 - (instrument.utils.tests.common) sim_print_plan()\n"
     ]
    },
    {
     "name": "stdout",
     "output_type": "stream",
     "text": [
      "(instrument.utils.tests.common) This is a test.\n",
      "(instrument.utils.tests.common)  motor.position=0  noisy_det.read()=OrderedDict({'noisy_det': {'value': 1.0257468984554825, 'timestamp': 1726528038.491585}}).\n"
     ]
    },
    {
     "data": {
      "text/plain": [
       "()"
      ]
     },
     "execution_count": 3,
     "metadata": {},
     "output_type": "execute_result"
    }
   ],
   "source": [
    "RE(sim_print_plan())"
   ]
  },
  {
   "cell_type": "code",
   "execution_count": 4,
   "metadata": {},
   "outputs": [
    {
     "name": "stderr",
     "output_type": "stream",
     "text": [
      "I Mon-18:07:18 - (instrument.utils.tests.common) sim_count_plan()\n"
     ]
    },
    {
     "name": "stdout",
     "output_type": "stream",
     "text": [
      "\n",
      "\n",
      "Transient Scan ID: 52     Time: 2024-09-16 18:07:18\n",
      "Persistent Unique Scan ID: 'b46added-842d-4cd3-b0e6-64e9f5f36468'\n",
      "New stream: 'primary'\n",
      "+-----------+------------+------------+\n",
      "|   seq_num |       time |  noisy_det |\n",
      "+-----------+------------+------------+\n",
      "|         1 | 18:07:18.5 |  10000.094 |\n",
      "+-----------+------------+------------+\n",
      "generator count ['b46added'] (scan num: 52)\n",
      "\n",
      "\n",
      "\n"
     ]
    },
    {
     "data": {
      "text/plain": [
       "('b46added-842d-4cd3-b0e6-64e9f5f36468',)"
      ]
     },
     "execution_count": 4,
     "metadata": {},
     "output_type": "execute_result"
    }
   ],
   "source": [
    "RE(sim_count_plan())"
   ]
  },
  {
   "cell_type": "code",
   "execution_count": 5,
   "metadata": {},
   "outputs": [
    {
     "name": "stderr",
     "output_type": "stream",
     "text": [
      "I Mon-18:07:18 - (instrument.utils.tests.common) sim_rel_scan_plan()\n"
     ]
    },
    {
     "name": "stdout",
     "output_type": "stream",
     "text": [
      "(instrument.utils.tests.common)  motor.position=0  noisy_det.read()=OrderedDict({'noisy_det': {'value': 10000.093555529258, 'timestamp': 1726528038.5849137}}).\n",
      "(instrument.utils.tests.common)  noisy_det.read_configuration()=OrderedDict({'noisy_det_Imax': {'value': 10000, 'timestamp': 1726528038.7161226}, 'noisy_det_center': {'value': 0, 'timestamp': 1726528038.7176108}, 'noisy_det_sigma': {'value': 1, 'timestamp': 1726528038.7194567}, 'noisy_det_noise': {'value': 'uniform', 'timestamp': 1726528038.7208166}, 'noisy_det_noise_multiplier': {'value': 0.1, 'timestamp': 1726528038.4913747}}).\n",
      "(instrument.utils.tests.common)  noisy_det.noise._enum_strs=('none', 'poisson', 'uniform').\n",
      "\n",
      "\n",
      "Transient Scan ID: 53     Time: 2024-09-16 18:07:18\n",
      "Persistent Unique Scan ID: '6e1a2e0f-8263-4750-88f7-b0c4e8206404'\n",
      "New stream: 'primary'\n",
      "+-----------+------------+------------+------------+\n",
      "|   seq_num |       time |      motor |  noisy_det |\n",
      "+-----------+------------+------------+------------+\n",
      "|         1 | 18:07:18.7 |     -2.500 |    439.277 |\n",
      "|         2 | 18:07:18.8 |     -2.000 |   1353.446 |\n",
      "|         3 | 18:07:18.8 |     -1.500 |   3246.563 |\n",
      "|         4 | 18:07:18.8 |     -1.000 |   6065.376 |\n",
      "|         5 | 18:07:18.9 |     -0.500 |   8825.022 |\n",
      "|         6 | 18:07:18.9 |      0.000 |  10000.069 |\n",
      "|         7 | 18:07:19.0 |      0.500 |   8824.924 |\n",
      "|         8 | 18:07:19.0 |      1.000 |   6065.372 |\n",
      "|         9 | 18:07:19.0 |      1.500 |   3246.457 |\n",
      "|        10 | 18:07:19.1 |      2.000 |   1353.289 |\n",
      "|        11 | 18:07:19.1 |      2.500 |    439.400 |\n",
      "+-----------+------------+------------+------------+\n",
      "generator rel_scan ['6e1a2e0f'] (scan num: 53)\n",
      "\n",
      "\n",
      "\n"
     ]
    },
    {
     "data": {
      "text/plain": [
       "('6e1a2e0f-8263-4750-88f7-b0c4e8206404',)"
      ]
     },
     "execution_count": 5,
     "metadata": {},
     "output_type": "execute_result"
    },
    {
     "data": {
      "image/png": "[encoded data removed]",
      "text/plain": [
       "<Figure size 500x500 with 1 Axes>"
      ]
     },
     "metadata": {},
     "output_type": "display_data"
    }
   ],
   "source": [
    "RE(sim_rel_scan_plan())"
   ]
  }
 ],
 "metadata": {
  "kernelspec": {
   "display_name": "qs_session",
   "language": "python",
   "name": "python3"
  },
  "language_info": {
   "codemirror_mode": {
    "name": "ipython",
    "version": 3
   },
   "file_extension": ".py",
   "mimetype": "text/x-python",
   "name": "python",
   "nbconvert_exporter": "python",
   "pygments_lexer": "ipython3",
   "version": "3.12.4"
  }
 },
 "nbformat": 4,
 "nbformat_minor": 2
}
