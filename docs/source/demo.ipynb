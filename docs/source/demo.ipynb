{
 "cells": [
  {
   "cell_type": "markdown",
   "metadata": {},
   "source": [
    "# Demo: Notebook Startup"
   ]
  },
  {
   "cell_type": "code",
   "execution_count": 1,
   "metadata": {},
   "outputs": [
    {
     "name": "stderr",
     "output_type": "stream",
     "text": [
      "I Thu-23:44:41 - ############################################################ startup\n",
      "I Thu-23:44:41 - logging started\n",
      "I Thu-23:44:41 - logging level = 10\n",
      "I Thu-23:44:41 - /home/prjemian/Documents/projects/prjemian/model_instrument/src/instrument/utils/_logging_setup.py\n",
      "I Thu-23:44:41 - /home/prjemian/Documents/projects/prjemian/model_instrument/src/instrument/utils/aps_functions.py\n",
      "I Thu-23:44:41 - /home/prjemian/Documents/projects/prjemian/model_instrument/src/instrument/utils/helper_functions.py\n",
      "I Thu-23:44:41 - xmode exception level: 'Minimal'\n",
      "W Thu-23:44:41 - APS DM setup file does not exist: '/home/dm/etc/dm.setup.sh'\n",
      "I Thu-23:44:41 - /home/prjemian/Documents/projects/prjemian/model_instrument/src/instrument/utils/controls_setup.py\n",
      "I Thu-23:44:41 - /home/prjemian/Documents/projects/prjemian/model_instrument/src/instrument/utils/metadata.py\n",
      "I Thu-23:44:41 - RunEngine metadata saved in directory: /home/prjemian/.config/Bluesky_RunEngine_md\n",
      "I Thu-23:44:41 - using ophyd control layer: 'pyepics'\n"
     ]
    },
    {
     "name": "stdout",
     "output_type": "stream",
     "text": [
      "Activating auto-logging. Current session state plus future input saved.\n",
      "Filename       : /home/prjemian/Documents/projects/prjemian/model_instrument/docs/source/.logs/ipython_console.log\n",
      "Mode           : rotate\n",
      "Output logging : True\n",
      "Raw input log  : False\n",
      "Timestamping   : True\n",
      "State          : active\n",
      "Exception reporting mode: Minimal\n"
     ]
    }
   ],
   "source": [
    "from instrument.startup import *  # noqa"
   ]
  },
  {
   "cell_type": "code",
   "execution_count": 2,
   "metadata": {},
   "outputs": [],
   "source": [
    "# import some plans with simulators from the test suite\n",
    "from instrument.tests.sim_plans import sim_count_plan\n",
    "from instrument.tests.sim_plans import sim_print_plan\n",
    "from instrument.tests.sim_plans import sim_rel_scan_plan"
   ]
  },
  {
   "cell_type": "code",
   "execution_count": 3,
   "metadata": {},
   "outputs": [
    {
     "name": "stdout",
     "output_type": "stream",
     "text": [
      "(instrument.tests.sim_plans) This is a test.\n",
      "(instrument.tests.sim_plans)  motor.position=0  noisy_det.read()=OrderedDict({'noisy_det': {'value': 0.9332145455657159, 'timestamp': 1728017081.422468}}).\n"
     ]
    },
    {
     "data": {
      "text/plain": [
       "()"
      ]
     },
     "execution_count": 3,
     "metadata": {},
     "output_type": "execute_result"
    }
   ],
   "source": [
    "RE(sim_print_plan())"
   ]
  },
  {
   "cell_type": "code",
   "execution_count": 4,
   "metadata": {},
   "outputs": [
    {
     "name": "stdout",
     "output_type": "stream",
     "text": [
      "\n",
      "\n",
      "Transient Scan ID: 9381     Time: 2024-10-03 23:44:41\n",
      "Persistent Unique Scan ID: '30241536-5747-4ab8-a2c0-36abe1177c27'\n",
      "New stream: 'primary'\n",
      "+-----------+------------+------------+\n",
      "|   seq_num |       time |  noisy_det |\n",
      "+-----------+------------+------------+\n",
      "|         1 | 23:44:41.5 |  10000.019 |\n",
      "+-----------+------------+------------+\n",
      "generator count ['30241536'] (scan num: 9381)\n",
      "\n",
      "\n",
      "\n"
     ]
    },
    {
     "data": {
      "text/plain": [
       "('30241536-5747-4ab8-a2c0-36abe1177c27',)"
      ]
     },
     "execution_count": 4,
     "metadata": {},
     "output_type": "execute_result"
    }
   ],
   "source": [
    "RE(sim_count_plan())"
   ]
  },
  {
   "cell_type": "code",
   "execution_count": 5,
   "metadata": {},
   "outputs": [
    {
     "name": "stdout",
     "output_type": "stream",
     "text": [
      "(instrument.tests.sim_plans)  motor.position=0  noisy_det.read()=OrderedDict({'noisy_det': {'value': 10000.019189462675, 'timestamp': 1728017081.5154274}}).\n",
      "(instrument.tests.sim_plans)  noisy_det.read_configuration()=OrderedDict({'noisy_det_Imax': {'value': 10000, 'timestamp': 1728017081.6279078}, 'noisy_det_center': {'value': 0, 'timestamp': 1728017081.6280491}, 'noisy_det_sigma': {'value': 1, 'timestamp': 1728017081.62835}, 'noisy_det_noise': {'value': 'uniform', 'timestamp': 1728017081.6286428}, 'noisy_det_noise_multiplier': {'value': 0.1, 'timestamp': 1728017081.4222577}}).\n",
      "(instrument.tests.sim_plans)  noisy_det.noise._enum_strs=('none', 'poisson', 'uniform').\n",
      "\n",
      "\n",
      "Transient Scan ID: 9382     Time: 2024-10-03 23:44:41\n",
      "Persistent Unique Scan ID: '80ebcf96-ae54-4c7e-9ef0-4e9cc4d06e3f'\n",
      "New stream: 'primary'\n",
      "+-----------+------------+------------+------------+\n",
      "|   seq_num |       time |      motor |  noisy_det |\n",
      "+-----------+------------+------------+------------+\n",
      "|         1 | 23:44:41.6 |     -2.500 |    439.386 |\n",
      "|         2 | 23:44:41.6 |     -2.000 |   1353.364 |\n",
      "|         3 | 23:44:41.6 |     -1.500 |   3246.518 |\n",
      "|         4 | 23:44:41.6 |     -1.000 |   6065.306 |\n",
      "|         5 | 23:44:41.6 |     -0.500 |   8824.966 |\n",
      "|         6 | 23:44:41.6 |      0.000 |  10000.009 |\n",
      "|         7 | 23:44:41.6 |      0.500 |   8824.884 |\n",
      "|         8 | 23:44:41.6 |      1.000 |   6065.271 |\n",
      "|         9 | 23:44:41.6 |      1.500 |   3246.439 |\n",
      "|        10 | 23:44:41.6 |      2.000 |   1353.262 |\n",
      "|        11 | 23:44:41.6 |      2.500 |    439.453 |\n",
      "+-----------+------------+------------+------------+\n",
      "generator rel_scan ['80ebcf96'] (scan num: 9382)\n",
      "\n",
      "\n",
      "\n"
     ]
    },
    {
     "data": {
      "text/plain": [
       "('80ebcf96-ae54-4c7e-9ef0-4e9cc4d06e3f',)"
      ]
     },
     "execution_count": 5,
     "metadata": {},
     "output_type": "execute_result"
    }
   ],
   "source": [
    "RE(sim_rel_scan_plan())"
   ]
  }
 ],
 "metadata": {
  "kernelspec": {
   "display_name": "qs_session",
   "language": "python",
   "name": "python3"
  },
  "language_info": {
   "codemirror_mode": {
    "name": "ipython",
    "version": 3
   },
   "file_extension": ".py",
   "mimetype": "text/x-python",
   "name": "python",
   "nbconvert_exporter": "python",
   "pygments_lexer": "ipython3",
   "version": "3.12.4"
  }
 },
 "nbformat": 4,
 "nbformat_minor": 2
}
