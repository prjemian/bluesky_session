{
 "cells": [
  {
   "cell_type": "markdown",
   "metadata": {},
   "source": [
    "# Demo: Notebook Startup"
   ]
  },
  {
   "cell_type": "code",
   "execution_count": 1,
   "metadata": {},
   "outputs": [],
   "source": [
    "from instrument.startup import *  # noqa"
   ]
  },
  {
   "cell_type": "code",
   "execution_count": 2,
   "metadata": {},
   "outputs": [],
   "source": [
    "# import some plans with simulators from the test suite\n",
    "from instrument.utils.tests.common import sim_count_plan\n",
    "from instrument.utils.tests.common import sim_print_plan\n",
    "from instrument.utils.tests.common import sim_rel_scan_plan"
   ]
  },
  {
   "cell_type": "code",
   "execution_count": 3,
   "metadata": {},
   "outputs": [
    {
     "name": "stdout",
     "output_type": "stream",
     "text": [
      "(instrument.utils.tests.common) This is a test.\n",
      "(instrument.utils.tests.common)  motor.position=0  noisy_det.read()=OrderedDict({'noisy_det': {'value': 1.0962808844719665, 'timestamp': 1726446769.080005}}).\n"
     ]
    },
    {
     "data": {
      "text/plain": [
       "()"
      ]
     },
     "execution_count": 3,
     "metadata": {},
     "output_type": "execute_result"
    }
   ],
   "source": [
    "RE(sim_print_plan())"
   ]
  },
  {
   "cell_type": "code",
   "execution_count": 4,
   "metadata": {},
   "outputs": [
    {
     "name": "stdout",
     "output_type": "stream",
     "text": [
      "\n",
      "\n",
      "Transient Scan ID: 2     Time: 2024-09-15 19:32:49\n",
      "Persistent Unique Scan ID: '1f1710ff-1f99-453c-94cd-26cb54fc9224'\n",
      "New stream: 'primary'\n",
      "+-----------+------------+------------+\n",
      "|   seq_num |       time |  noisy_det |\n",
      "+-----------+------------+------------+\n",
      "|         1 | 19:32:49.3 |  10000.006 |\n",
      "+-----------+------------+------------+\n",
      "generator count ['1f1710ff'] (scan num: 2)\n",
      "\n",
      "\n",
      "\n"
     ]
    },
    {
     "data": {
      "text/plain": [
       "('1f1710ff-1f99-453c-94cd-26cb54fc9224',)"
      ]
     },
     "execution_count": 4,
     "metadata": {},
     "output_type": "execute_result"
    }
   ],
   "source": [
    "RE(sim_count_plan())"
   ]
  },
  {
   "cell_type": "code",
   "execution_count": 5,
   "metadata": {},
   "outputs": [
    {
     "name": "stdout",
     "output_type": "stream",
     "text": [
      "(instrument.utils.tests.common)  motor.position=0  noisy_det.read()=OrderedDict({'noisy_det': {'value': 10000.00551732525, 'timestamp': 1726446769.2988656}}).\n",
      "(instrument.utils.tests.common)  noisy_det.read_configuration()=OrderedDict({'noisy_det_Imax': {'value': 10000, 'timestamp': 1726446769.412801}, 'noisy_det_center': {'value': 0, 'timestamp': 1726446769.4134123}, 'noisy_det_sigma': {'value': 1, 'timestamp': 1726446769.413823}, 'noisy_det_noise': {'value': 'uniform', 'timestamp': 1726446769.4141865}, 'noisy_det_noise_multiplier': {'value': 0.1, 'timestamp': 1726446769.0797973}}).\n",
      "(instrument.utils.tests.common)  noisy_det.noise._enum_strs=('none', 'poisson', 'uniform').\n",
      "\n",
      "\n",
      "Transient Scan ID: 3     Time: 2024-09-15 19:32:49\n",
      "Persistent Unique Scan ID: 'f3d72cd5-1bdc-4437-8b08-c0dcffd31274'\n",
      "New stream: 'primary'\n",
      "+-----------+------------+------------+------------+\n",
      "|   seq_num |       time |      motor |  noisy_det |\n",
      "+-----------+------------+------------+------------+\n",
      "|         1 | 19:32:49.4 |     -2.500 |    439.431 |\n",
      "|         2 | 19:32:49.4 |     -2.000 |   1353.325 |\n",
      "|         3 | 19:32:49.5 |     -1.500 |   3246.552 |\n",
      "|         4 | 19:32:49.5 |     -1.000 |   6065.216 |\n",
      "|         5 | 19:32:49.6 |     -0.500 |   8824.888 |\n",
      "|         6 | 19:32:49.6 |      0.000 |  10000.065 |\n",
      "|         7 | 19:32:49.6 |      0.500 |   8824.981 |\n",
      "|         8 | 19:32:49.7 |      1.000 |   6065.279 |\n",
      "|         9 | 19:32:49.7 |      1.500 |   3246.492 |\n",
      "|        10 | 19:32:49.7 |      2.000 |   1353.441 |\n",
      "|        11 | 19:32:49.8 |      2.500 |    439.381 |\n",
      "+-----------+------------+------------+------------+\n",
      "generator rel_scan ['f3d72cd5'] (scan num: 3)\n",
      "\n",
      "\n",
      "\n"
     ]
    },
    {
     "data": {
      "text/plain": [
       "('f3d72cd5-1bdc-4437-8b08-c0dcffd31274',)"
      ]
     },
     "execution_count": 5,
     "metadata": {},
     "output_type": "execute_result"
    },
    {
     "data": {
      "image/png": "[encoded data removed]",
      "text/plain": [
       "<Figure size 500x500 with 1 Axes>"
      ]
     },
     "metadata": {},
     "output_type": "display_data"
    }
   ],
   "source": [
    "RE(sim_rel_scan_plan())"
   ]
  }
 ],
 "metadata": {
  "kernelspec": {
   "display_name": "qs_session",
   "language": "python",
   "name": "python3"
  },
  "language_info": {
   "codemirror_mode": {
    "name": "ipython",
    "version": 3
   },
   "file_extension": ".py",
   "mimetype": "text/x-python",
   "name": "python",
   "nbconvert_exporter": "python",
   "pygments_lexer": "ipython3",
   "version": "3.12.4"
  }
 },
 "nbformat": 4,
 "nbformat_minor": 2
}
