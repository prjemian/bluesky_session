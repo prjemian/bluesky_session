{
 "cells": [
  {
   "cell_type": "markdown",
   "metadata": {},
   "source": [
    "# Demo: Notebook Startup"
   ]
  },
  {
   "cell_type": "code",
   "execution_count": 1,
   "metadata": {},
   "outputs": [
    {
     "name": "stderr",
     "output_type": "stream",
     "text": [
      "I Tue-13:58:09 - ############################################################ startup\n",
      "I Tue-13:58:09 - logging started\n",
      "I Tue-13:58:09 - logging level = 10\n",
      "I Tue-13:58:09 - /home/prjemian/Documents/projects/prjemian/model_instrument/src/instrument/core/_logging_setup.py\n",
      "I Tue-13:58:09 - /home/prjemian/Documents/projects/prjemian/model_instrument/src/instrument/core/aps_dm_setup.py\n",
      "W Tue-13:58:09 - APS DM setup file does not exist: '/home/dm/etc/dm.setup.sh'\n",
      "I Tue-13:58:09 - /home/prjemian/Documents/projects/prjemian/model_instrument/src/instrument/core/debug_setup.py\n",
      "I Tue-13:58:09 - xmode exception level: 'Minimal'\n",
      "I Tue-13:58:09 - /home/prjemian/Documents/projects/prjemian/model_instrument/src/instrument/core/functions.py\n",
      "I Tue-13:58:09 - /home/prjemian/Documents/projects/prjemian/model_instrument/src/instrument/core/mpl_setup.py\n",
      "I Tue-13:58:09 - /home/prjemian/Documents/projects/prjemian/model_instrument/src/instrument/startup.py\n",
      "I Tue-13:58:09 - /home/prjemian/Documents/projects/prjemian/model_instrument/src/instrument/core/best_effort.py\n",
      "I Tue-13:58:09 - /home/prjemian/Documents/projects/prjemian/model_instrument/src/instrument/core/catalog.py\n",
      "I Tue-13:58:09 - Databroker catalog: temp\n",
      "I Tue-13:58:09 - /home/prjemian/Documents/projects/prjemian/model_instrument/src/instrument/core/ophyd_setup.py\n",
      "I Tue-13:58:09 - using ophyd control layer: 'pyepics'\n",
      "I Tue-13:58:09 - /home/prjemian/Documents/projects/prjemian/model_instrument/src/instrument/core/run_engine.py\n",
      "I Tue-13:58:09 - /home/prjemian/Documents/projects/prjemian/model_instrument/src/instrument/core/epics_setup.py\n",
      "I Tue-13:58:10 - /home/prjemian/Documents/projects/prjemian/model_instrument/src/instrument/core/metadata.py\n",
      "I Tue-13:58:10 - RunEngine metadata saved in directory: /home/prjemian/.config/Bluesky_RunEngine_md\n",
      "I Tue-13:58:10 - /home/prjemian/Documents/projects/prjemian/model_instrument/src/instrument/core/tests/common.py\n"
     ]
    },
    {
     "name": "stdout",
     "output_type": "stream",
     "text": [
      "Activating auto-logging. Current session state plus future input saved.\n",
      "Filename       : /home/prjemian/Documents/projects/prjemian/model_instrument/docs/source/.logs/ipython_console.log\n",
      "Mode           : rotate\n",
      "Output logging : True\n",
      "Raw input log  : False\n",
      "Timestamping   : True\n",
      "State          : active\n",
      "Exception reporting mode: Minimal\n"
     ]
    }
   ],
   "source": [
    "from instrument.startup import *  # noqa"
   ]
  },
  {
   "cell_type": "code",
   "execution_count": 2,
   "metadata": {},
   "outputs": [],
   "source": [
    "# import some plans with simulators from the test suite\n",
    "from instrument.core.tests.common import sim_count_plan\n",
    "from instrument.core.tests.common import sim_print_plan\n",
    "from instrument.core.tests.common import sim_rel_scan_plan"
   ]
  },
  {
   "cell_type": "code",
   "execution_count": 3,
   "metadata": {},
   "outputs": [
    {
     "name": "stderr",
     "output_type": "stream",
     "text": [
      "I Tue-13:58:10 - (instrument.core.tests.common) sim_print_plan()\n"
     ]
    },
    {
     "name": "stdout",
     "output_type": "stream",
     "text": [
      "(instrument.core.tests.common) This is a test.\n",
      "(instrument.core.tests.common)  motor.position=0  noisy_det.read()=OrderedDict({'noisy_det': {'value': 0.9005857077002286, 'timestamp': 1726599489.9812145}}).\n"
     ]
    },
    {
     "data": {
      "text/plain": [
       "()"
      ]
     },
     "execution_count": 3,
     "metadata": {},
     "output_type": "execute_result"
    }
   ],
   "source": [
    "RE(sim_print_plan())"
   ]
  },
  {
   "cell_type": "code",
   "execution_count": 4,
   "metadata": {},
   "outputs": [
    {
     "name": "stderr",
     "output_type": "stream",
     "text": [
      "I Tue-13:58:10 - (instrument.core.tests.common) sim_count_plan()\n"
     ]
    },
    {
     "name": "stdout",
     "output_type": "stream",
     "text": [
      "\n",
      "\n",
      "Transient Scan ID: 9372     Time: 2024-09-17 13:58:10\n",
      "Persistent Unique Scan ID: 'e9c66555-7c54-4b03-8ac1-0634c6e8e3ea'\n",
      "New stream: 'primary'\n",
      "+-----------+------------+------------+\n",
      "|   seq_num |       time |  noisy_det |\n",
      "+-----------+------------+------------+\n",
      "|         1 | 13:58:10.0 |   9999.927 |\n",
      "+-----------+------------+------------+\n",
      "generator count ['e9c66555'] (scan num: 9372)\n",
      "\n",
      "\n",
      "\n"
     ]
    },
    {
     "data": {
      "text/plain": [
       "('e9c66555-7c54-4b03-8ac1-0634c6e8e3ea',)"
      ]
     },
     "execution_count": 4,
     "metadata": {},
     "output_type": "execute_result"
    }
   ],
   "source": [
    "RE(sim_count_plan())"
   ]
  },
  {
   "cell_type": "code",
   "execution_count": 5,
   "metadata": {},
   "outputs": [
    {
     "name": "stderr",
     "output_type": "stream",
     "text": [
      "I Tue-13:58:10 - (instrument.core.tests.common) sim_rel_scan_plan()\n"
     ]
    },
    {
     "name": "stdout",
     "output_type": "stream",
     "text": [
      "(instrument.core.tests.common)  motor.position=0  noisy_det.read()=OrderedDict({'noisy_det': {'value': 9999.927221305592, 'timestamp': 1726599490.0763905}}).\n",
      "(instrument.core.tests.common)  noisy_det.read_configuration()=OrderedDict({'noisy_det_Imax': {'value': 10000, 'timestamp': 1726599490.198231}, 'noisy_det_center': {'value': 0, 'timestamp': 1726599490.1991315}, 'noisy_det_sigma': {'value': 1, 'timestamp': 1726599490.1993685}, 'noisy_det_noise': {'value': 'uniform', 'timestamp': 1726599490.1997182}, 'noisy_det_noise_multiplier': {'value': 0.1, 'timestamp': 1726599489.9810083}}).\n",
      "(instrument.core.tests.common)  noisy_det.noise._enum_strs=('none', 'poisson', 'uniform').\n",
      "\n",
      "\n",
      "Transient Scan ID: 9373     Time: 2024-09-17 13:58:10\n",
      "Persistent Unique Scan ID: '98594da1-3c19-42b9-a3f6-ebb664f1261d'\n",
      "New stream: 'primary'\n",
      "+-----------+------------+------------+------------+\n",
      "|   seq_num |       time |      motor |  noisy_det |\n",
      "+-----------+------------+------------+------------+\n",
      "|         1 | 13:58:10.2 |     -2.500 |    439.295 |\n",
      "|         2 | 13:58:10.2 |     -2.000 |   1353.397 |\n",
      "|         3 | 13:58:10.3 |     -1.500 |   3246.461 |\n",
      "|         4 | 13:58:10.3 |     -1.000 |   6065.281 |\n",
      "|         5 | 13:58:10.4 |     -0.500 |   8824.954 |\n",
      "|         6 | 13:58:10.4 |      0.000 |   9999.931 |\n",
      "|         7 | 13:58:10.4 |      0.500 |   8824.936 |\n",
      "|         8 | 13:58:10.5 |      1.000 |   6065.256 |\n",
      "|         9 | 13:58:10.5 |      1.500 |   3246.450 |\n",
      "|        10 | 13:58:10.5 |      2.000 |   1353.441 |\n",
      "|        11 | 13:58:10.6 |      2.500 |    439.322 |\n",
      "+-----------+------------+------------+------------+\n",
      "generator rel_scan ['98594da1'] (scan num: 9373)\n",
      "\n",
      "\n",
      "\n"
     ]
    },
    {
     "data": {
      "text/plain": [
       "('98594da1-3c19-42b9-a3f6-ebb664f1261d',)"
      ]
     },
     "execution_count": 5,
     "metadata": {},
     "output_type": "execute_result"
    },
    {
     "data": {
      "image/png": "[encoded data removed]",
      "text/plain": [
       "<Figure size 500x500 with 1 Axes>"
      ]
     },
     "metadata": {},
     "output_type": "display_data"
    }
   ],
   "source": [
    "RE(sim_rel_scan_plan())"
   ]
  }
 ],
 "metadata": {
  "kernelspec": {
   "display_name": "qs_session",
   "language": "python",
   "name": "python3"
  },
  "language_info": {
   "codemirror_mode": {
    "name": "ipython",
    "version": 3
   },
   "file_extension": ".py",
   "mimetype": "text/x-python",
   "name": "python",
   "nbconvert_exporter": "python",
   "pygments_lexer": "ipython3",
   "version": "3.12.4"
  }
 },
 "nbformat": 4,
 "nbformat_minor": 2
}
